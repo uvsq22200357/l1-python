{
 "cells": [
  {
   "cell_type": "markdown",
   "metadata": {},
   "source": [
    "# Instructions Générales\n",
    "\n",
    "Ce TD est à faire en créant un fichier td3.py, que vous éditerez dans VSCode. \n",
    "Vous ne remplirez pas les cellules de ce notebook, mais vous les copierez au fur et à mesure \n",
    "dans votre fichier pour les compléter.\n",
    "\n",
    "Vous respecterez au mieux les règles d'écriture de code, en particulier chaque fonction devra avoir un **docstring** et des commentaires si nécessaire et les noms de variable seront illustratifs de leur usage. Vous utiliserez les outils de débogage (flake8, mypy, debugger, pythontutor ...) pour corriger vos bogues."
   ]
  },
  {
   "cell_type": "markdown",
   "metadata": {},
   "source": [
    "# Gestion du temps\n",
    "\n",
    "Nous allons créer un petit logiciel de gestion du temps et des dates.\n",
    "Pour cela nous aurons besoin de créer un certain nombre de fonctions utilitaires.\n",
    "\n",
    "Un temps a le format suivant: (jour: int, heure: int, minute: int, seconde: int).\n",
    "C'est un tuple de 4 éléments. Par exemple (4, 3, 13, 20) correspond à 4 jours, 3 heures, 13 minutes et 20 secondes.\n",
    "Si on a une variable temps = (4, 3, 13, 20), pour accéder au premier élément on fait temps\\[0\\] ce qui donne 4,\n",
    "le nombre de jours.\n",
    "\n",
    "Créer la fonction qui prend comme argument le temps et renvoie le nombre de seconde total correspondant à ce temps.\n",
    "Créer la fonction qui prend un nombre de secondes et renvoie le temps correspondant."
   ]
  },
  {
   "cell_type": "code",
   "execution_count": 8,
   "metadata": {},
   "outputs": [
    {
     "data": {
      "text/plain": [
       "1368850"
      ]
     },
     "execution_count": 8,
     "metadata": {},
     "output_type": "execute_result"
    }
   ],
   "source": [
    "def temps(j, h, m, s) :\n",
    "    \"\"\"Donne le temps en seconde\"\"\"\n",
    "    temps_tot = s + m * 60 + h * 3600 + j *86400\n",
    "    return(temps_tot)\n",
    "\n",
    "\n",
    "def temps_seconde(s) : \n",
    "    \"\"\"Donne le temps en jours, heures, minutes et secondes\"\"\"\n",
    "    j = s // 86400\n",
    "    s = s - j * 86400\n",
    "    h = s // 3600\n",
    "    s = s - h * 3600\n",
    "    m = s // 60\n",
    "    s = s - m * 60\n",
    "    temps = [j, h, s, m]\n",
    "    return(temps)\n",
    "\n"
   ]
  },
  {
   "cell_type": "markdown",
   "metadata": {},
   "source": [
    "Créer une fonction d'affichage d'un temps `afficheTemps`. Attention, les mots jour, heure et seconde doivent être au pluriel s'il y en a plusieurs. S'il y en a zéro, ils ne doivent pas apparaître.\n",
    "`print(message, end=\"\")` permet de ne pas sauter une ligne après un print. \n",
    "Vous pouvez écrire une fonction qui affiche un mot au pluriel ou non, appelée ensuite plusieurs fois par `afficheTemps` pour simplifier votre code.\n"
   ]
  },
  {
   "cell_type": "code",
   "execution_count": 1,
   "metadata": {},
   "outputs": [
    {
     "name": "stdout",
     "output_type": "stream",
     "text": [
      "1 jour 14 minutes 23 secondes "
     ]
    }
   ],
   "source": [
    "#fonction auxiliaire ici\n",
    "\n",
    "def afficheTemps(temps):\n",
    "    if temps[0] != 0 :\n",
    "        if temps[0] == 1 :\n",
    "            print(temps[0], \"jour\", end=\" \")\n",
    "        else :\n",
    "            print(temps[0], \"jours\", end=\" \")\n",
    "    if temps[1] != 0 :\n",
    "        if temps[1] == 1 :\n",
    "            print(temps[1], \"heure\", end=\" \")\n",
    "        else :\n",
    "            print(temps[1], \"heures\", end=\" \")\n",
    "    if temps[2] != 0 :\n",
    "        if temps[2] == 1 :\n",
    "            print(temps[2], \"minute\", end=\" \")\n",
    "        else :\n",
    "            print(temps[2], \"minutes\", end=\" \")\n",
    "    if temps[3] != 0 :\n",
    "        if temps[3] == 1 :\n",
    "            print(temps[3], \"seconde\", end=\" \")\n",
    "        else :\n",
    "            print(temps[3], \"secondes\", end=\" \")\n",
    "afficheTemps((1,0,14,23))    "
   ]
  },
  {
   "cell_type": "markdown",
   "metadata": {},
   "source": [
    "Ecrire une fonction qui demande à l'utilisateur de rentrer un nombre de jours, d'heures, de minutes et\n",
    "de secondes et qui renvoie un temps. Attention, si l'entrée utilisateur n'est pas correcte, par exemple 80 minutes,\n",
    "afficher un message d'erreur et s'arrêter.\n",
    "\n",
    "(Optionnel) Au lieu d'arêter le programme, demander de rentrer une nouvelle valeur, tant que \n",
    "ce n'est pas une valeur correcte."
   ]
  },
  {
   "cell_type": "code",
   "execution_count": 28,
   "metadata": {},
   "outputs": [
    {
     "name": "stdout",
     "output_type": "stream",
     "text": [
      "12 heures 2 minutes 3 secondes "
     ]
    }
   ],
   "source": [
    "def demandeTemps(temps):\n",
    "    \"\"\"Vérifie que le temps est écrit correctement\"\"\"\n",
    "    if 0 <= temps[0] <= 31 and 0 <= temps[1] <= 23 and 0 <= temps[2] <= 59 and 0 <= temps[3] <= 59 :\n",
    "        afficheTemps(temps)\n",
    "    else :\n",
    "        while not(0 <= temps[0] <= 31 and 0 <= temps[1] <= 23 and 0 <= temps[2] <= 59 and 0 <= temps[3] <= 59) :\n",
    "            j = int(input(\"nb de jours\"))\n",
    "            h = int(input(\"nb d'heures\"))\n",
    "            m = int(input(\"nb de minutes\"))\n",
    "            s = int(input(\"nb de secondes\"))\n",
    "            temps = (j, h, m, s)\n",
    "        afficheTemps(temps)\n",
    "demandeTemps((0, 53, 6, 23))"
   ]
  },
  {
   "cell_type": "markdown",
   "metadata": {},
   "source": [
    "On veut être capable d'additionner deux temps. Donner une fonction qui fait ce calcul,\n",
    "en utilisant les fonctions précédentes."
   ]
  },
  {
   "cell_type": "code",
   "execution_count": 24,
   "metadata": {},
   "outputs": [
    {
     "name": "stdout",
     "output_type": "stream",
     "text": [
      "8 jours 2 heures 1 minute 26 secondes "
     ]
    }
   ],
   "source": [
    "def sommeTemps(temps1,temps2):\n",
    "    temps = (temps1[0] + temps2[0], temps1[1] + temps2[1], temps1[2] + temps2[2], temps1[3] + temps2[3],)\n",
    "    corrigeTemps(temps)\n",
    "\n",
    "\n",
    "def corrigeTemps(temps) :\n",
    "    \"\"\"Corrige le temps\"\"\"\n",
    "    if 0 <= temps[0] <= 31 and 0 <= temps[1] <= 23 and 0 <= temps[2] <= 59 and 0 <= temps[3] <= 59 :\n",
    "        afficheTemps(temps)\n",
    "    else :\n",
    "        s = temps[3] + temps[2] * 60 + temps[1] * 3600 + temps[0] *86400\n",
    "        j = s // 86400\n",
    "        s = s - j * 86400\n",
    "        h = s // 3600\n",
    "        s = s - h * 3600\n",
    "        m = s // 60\n",
    "        s = s - m * 60\n",
    "        temps = (j, h, m, s)\n",
    "        afficheTemps(temps)\n",
    "sommeTemps((2,3,4,25),(5,22,57,1))"
   ]
  },
  {
   "cell_type": "markdown",
   "metadata": {},
   "source": [
    "On veut maintenant calculer un pourcentage d'un temps. Par exemple, 20% de\n",
    "2 jours et 36 minutes correspond à 9 heures, 43 minutes et 12 secondes.\n",
    "\n",
    "Implémenter la fonction `proportionTemps` puis appeler cette fonction en échangeant l'ordre des arguments mais en les nommant."
   ]
  },
  {
   "cell_type": "code",
   "execution_count": 31,
   "metadata": {},
   "outputs": [
    {
     "name": "stdout",
     "output_type": "stream",
     "text": [
      "0\n",
      "9 heures 43 minutes 12 secondes "
     ]
    },
    {
     "ename": "TypeError",
     "evalue": "'NoneType' object is not subscriptable",
     "output_type": "error",
     "traceback": [
      "\u001b[1;31m---------------------------------------------------------------------------\u001b[0m",
      "\u001b[1;31mTypeError\u001b[0m                                 Traceback (most recent call last)",
      "Cell \u001b[1;32mIn [31], line 13\u001b[0m\n\u001b[0;32m     11\u001b[0m     temps \u001b[39m=\u001b[39m (j, h, m, s)\n\u001b[0;32m     12\u001b[0m     corrigeTemps(temps)\n\u001b[1;32m---> 13\u001b[0m afficheTemps(proportionTemps((\u001b[39m2\u001b[39;49m,\u001b[39m0\u001b[39;49m,\u001b[39m36\u001b[39;49m,\u001b[39m0\u001b[39;49m),\u001b[39m0.2\u001b[39;49m))\n",
      "Cell \u001b[1;32mIn [21], line 14\u001b[0m, in \u001b[0;36mafficheTemps\u001b[1;34m(temps)\u001b[0m\n\u001b[0;32m     13\u001b[0m \u001b[39mdef\u001b[39;00m \u001b[39mafficheTemps\u001b[39m(temps):\n\u001b[1;32m---> 14\u001b[0m     \u001b[39mif\u001b[39;00m temps[\u001b[39m0\u001b[39;49m] \u001b[39m!=\u001b[39m \u001b[39m0\u001b[39m :\n\u001b[0;32m     15\u001b[0m         \u001b[39mif\u001b[39;00m temps[\u001b[39m0\u001b[39m] \u001b[39m==\u001b[39m \u001b[39m1\u001b[39m :\n\u001b[0;32m     16\u001b[0m             \u001b[39mprint\u001b[39m(temps[\u001b[39m0\u001b[39m], \u001b[39m\"\u001b[39m\u001b[39mjour\u001b[39m\u001b[39m\"\u001b[39m, end\u001b[39m=\u001b[39m\u001b[39m\"\u001b[39m\u001b[39m \u001b[39m\u001b[39m\"\u001b[39m)\n",
      "\u001b[1;31mTypeError\u001b[0m: 'NoneType' object is not subscriptable"
     ]
    }
   ],
   "source": [
    "def proportionTemps(temps,proportion):\n",
    "    s = (temps[0] * 86400 + temps[1] * 3600 + temps[2] * 60 + temps[3])\n",
    "    s = int(s * proportion)\n",
    "    j = s // 86400\n",
    "    s = s - j * 86400\n",
    "    h = s // 3600\n",
    "    s = s - h * 3600\n",
    "    m = s // 60\n",
    "    s = s - m * 60\n",
    "    temps = (j, h, m, s)\n",
    "    corrigeTemps(temps)\n",
    "afficheTemps(proportionTemps((2,0,36,0),0.2))\n",
    "#appeler la fonction en échangeant l'ordre des arguments"
   ]
  },
  {
   "cell_type": "markdown",
   "metadata": {},
   "source": [
    "On veut maintenant afficher un temps sous forme de date, en supposant \n",
    "que le temps 0 est le 1 janvier 1970 à 00:00:00.\n",
    "\n",
    "* Implémenter une fonction `tempsEnDate`qui donne la date sous la forme (année, jour, heure, minute, seconde).\n",
    "* Implémenter la fonction `afficheDate`qui affiche la date. \n",
    "* (Optionnel) Gérer également les mois."
   ]
  },
  {
   "cell_type": "code",
   "execution_count": 2,
   "metadata": {},
   "outputs": [
    {
     "ename": "NameError",
     "evalue": "name 'afficheTemps' is not defined",
     "output_type": "error",
     "traceback": [
      "\u001b[1;31m---------------------------------------------------------------------------\u001b[0m",
      "\u001b[1;31mNameError\u001b[0m                                 Traceback (most recent call last)",
      "Cell \u001b[1;32mIn [2], line 12\u001b[0m\n\u001b[0;32m      9\u001b[0m     \u001b[39mpass\u001b[39;00m\n\u001b[0;32m     11\u001b[0m temps \u001b[39m=\u001b[39m \u001b[39m1000000000\u001b[39m\n\u001b[1;32m---> 12\u001b[0m afficheTemps(temps)\n\u001b[0;32m     13\u001b[0m afficheDate(tempsEnDate(temps))\n\u001b[0;32m     14\u001b[0m afficheDate()\n",
      "\u001b[1;31mNameError\u001b[0m: name 'afficheTemps' is not defined"
     ]
    }
   ],
   "source": [
    "def tempsEnDate(temps):\n",
    "    temps_date = [0, 0, 0, 0, 0]\n",
    "    div_date = [365*24*60*60, 24*60*60, 60, 1]\n",
    "    for i in range (5):\n",
    "        temps_date[i] = temps//div_date[i]\n",
    "        temps = temps % div_date[i]\n",
    "        return(temps)\n",
    "def afficheDate(date = -1):\n",
    "    pass\n",
    "    \n",
    "temps = 1000000000\n",
    "afficheTemps(temps)\n",
    "afficheDate(tempsEnDate(temps))\n",
    "afficheDate()"
   ]
  },
  {
   "cell_type": "markdown",
   "metadata": {},
   "source": [
    "Il existe des fonctions dans la librairie `time` pour la gestion du temps. En particulier, il existe\n",
    "une fonction `time` qui donne le temps écoulé depuis 1970 en secondes. \n",
    "La trouver avec la [documentation python](https://docs.python.org/fr/3/library/time.html#module-time) et la tester en utilisant `afficheDate`. \n",
    "Tester de la même manière la fonction `time.gmtime` qui réalise une tâche similaire à `tempsEnDate`.\n",
    "Que constatez vous ?"
   ]
  },
  {
   "cell_type": "code",
   "execution_count": 7,
   "metadata": {},
   "outputs": [
    {
     "name": "stdout",
     "output_type": "stream",
     "text": [
      "time.struct_time(tm_year=1973, tm_mon=3, tm_mday=3, tm_hour=9, tm_min=46, tm_sec=40, tm_wday=5, tm_yday=62, tm_isdst=0)\n"
     ]
    }
   ],
   "source": [
    "#tester ici les fonctions de la librairie time\n",
    "from time import *\n",
    "a = gmtime(100000000)\n",
    "print(a)"
   ]
  },
  {
   "cell_type": "markdown",
   "metadata": {},
   "source": [
    "Attention, tous les 4 ans les années sont bisextiles (un jour de plus) sauf les multiples de 100 qui ne sont pas des multiples de 400.\n",
    "Donner un code qui prend un nombre de jours et affiche toutes les années bisextiles depuis le 1er janvier 1970 à 00:00:00 jusqu'à la fin de ces jours."
   ]
  },
  {
   "cell_type": "code",
   "execution_count": null,
   "metadata": {},
   "outputs": [],
   "source": [
    "def bisextile(jour):\n",
    "    pass\n",
    "        \n",
    "bisextile(20000)"
   ]
  },
  {
   "cell_type": "markdown",
   "metadata": {},
   "source": [
    "Implémenter une fonction `nombreBisextile` qui calcule le nombre d'années bisextiles entre le 1er janvier 1970 et le nombre de jour donnés.\n",
    "Utilisez-la pour implémenter une fonction `tempsEnDateBisextile` qui fait la même chose que `tempsEnDate` mais en prenant en compte les années bisextiles."
   ]
  },
  {
   "cell_type": "code",
   "execution_count": null,
   "metadata": {},
   "outputs": [],
   "source": [
    "def nombreBisextile(jour):\n",
    "    pass\n",
    "\n",
    "def tempsEnDateBisextile(temps):\n",
    "    pass\n",
    "   \n",
    "temps = secondeEnTemps(1000000000)\n",
    "afficheTemps(temps)\n",
    "afficheDate(tempsEnDateBisextile(temps))"
   ]
  },
  {
   "cell_type": "markdown",
   "metadata": {},
   "source": [
    "Ajouter des valeurs par défaut dans le code de `afficheDate` afin de pouvoir ommettre\n",
    "l'argument de ces fonctions. Dans ce cas là, on affichera la date actuelle en utilisant la fonction `time`."
   ]
  },
  {
   "cell_type": "markdown",
   "metadata": {},
   "source": [
    "On va maintenant inspecter notre code pour améliorer sa qualité:\n",
    "\n",
    "* Regarder tous les warnings donnés par flake8 et essayer de les régler.\n",
    "* Utiliser le debugger (F5) pour étudier le fonctionnement de votre fonction nombreBisextile.\n",
    "* Mettre les annotations de type des arguments et du retour de la fonction pour nombreBisextile et une autre fonction de votre choix. Vérifier avec mypy que tout fonctionne bien."
   ]
  },
  {
   "cell_type": "markdown",
   "metadata": {},
   "source": [
    "Donner une fonction qui vérifie la charge horaire d'un employé, donnée sous forme d'une liste de temps travaillé chaque semaine dans un mois. Il ne faut pas dépasser 48h par semaine et 140h par mois (qu'on considère ici de 4 semaines).\n",
    "\n",
    "(Optionnel) S'adapter à une liste qui peut contenir plusieurs mois."
   ]
  },
  {
   "cell_type": "code",
   "execution_count": null,
   "metadata": {},
   "outputs": [],
   "source": [
    "def verifie(liste_temps):\n",
    "    pass\n",
    "\n",
    "\n",
    "liste_temps = [[1,2,39,34],[0,1,9,4],[0,29,39,51],[0,31,13,46]]\n",
    "verifie(liste_temps)"
   ]
  }
 ],
 "metadata": {
  "kernelspec": {
   "display_name": "Python 3.10.7 64-bit (microsoft store)",
   "language": "python",
   "name": "python3"
  },
  "language_info": {
   "codemirror_mode": {
    "name": "ipython",
    "version": 3
   },
   "file_extension": ".py",
   "mimetype": "text/x-python",
   "name": "python",
   "nbconvert_exporter": "python",
   "pygments_lexer": "ipython3",
   "version": "3.10.8"
  },
  "vscode": {
   "interpreter": {
    "hash": "c6d88fc2d417d38d3c6e30f264416dce9d9aae60518bf6daf57927d698a3ada2"
   }
  }
 },
 "nbformat": 4,
 "nbformat_minor": 4
}
